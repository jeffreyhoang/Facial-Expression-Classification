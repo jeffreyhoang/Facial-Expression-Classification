{
 "cells": [
  {
   "cell_type": "code",
   "execution_count": 1,
   "metadata": {},
   "outputs": [
    {
     "name": "stdout",
     "output_type": "stream",
     "text": [
      "done\n"
     ]
    }
   ],
   "source": [
    "import numpy as np\n",
    "import pandas as pd\n",
    "import os\n",
    "import torch\n",
    "import torch.nn as nn\n",
    "import torch.optim as optim\n",
    "from torch.utils.data import Dataset, DataLoader\n",
    "import torchvision.transforms as transforms\n",
    "from torchvision.datasets import ImageFolder\n",
    "import matplotlib.pyplot as plt\n",
    "print(\"done\")"
   ]
  },
  {
   "cell_type": "code",
   "execution_count": 2,
   "metadata": {},
   "outputs": [
    {
     "name": "stdout",
     "output_type": "stream",
     "text": [
      "done\n"
     ]
    }
   ],
   "source": [
    "class CustomDataset(Dataset):\n",
    "    def __init__(self, data_csv, target_csv=None, transform=None):\n",
    "        self.data = pd.read_csv(data_csv, header=None)\n",
    "        self.targets = pd.read_csv(target_csv, header=None) if target_csv is not None else None\n",
    "        self.transform = transform\n",
    "\n",
    "    def __len__(self):\n",
    "        # return total number of samples in the dataset\n",
    "        return len(self.data)\n",
    "\n",
    "    def __getitem__(self, idx):\n",
    "        # extract the image data and reshape it to (1, 48, 48) and convert to float 32\n",
    "        data_path = self.data.iloc[idx].values.astype(\"float32\").reshape(1, 48, 48)\n",
    "        data = torch.tensor(data_path)\n",
    "\n",
    "        # apply transformations if specified\n",
    "        if self.transform:\n",
    "            data = self.transform(data)\n",
    "\n",
    "        # retrive target label if not None\n",
    "        if self.targets is not None:\n",
    "            target = int(self.targets.iloc[idx, 0])\n",
    "            return data, target\n",
    "        else:\n",
    "            return data\n",
    "\n",
    "print(\"done\")"
   ]
  },
  {
   "cell_type": "code",
   "execution_count": 3,
   "metadata": {},
   "outputs": [
    {
     "name": "stdout",
     "output_type": "stream",
     "text": [
      "done\n"
     ]
    }
   ],
   "source": [
    "# transformations to apply on the training data\n",
    "train_transforms = transforms.Compose([\n",
    "    transforms.RandomHorizontalFlip(),  # randomly flip images horizontally\n",
    "    transforms.RandomRotation(10), # rotate images within a range of -10 to +10 degrees\n",
    "    transforms.Normalize((0.5,), (0.5,))\n",
    "])\n",
    "\n",
    "# create a training dataset instance with transformations applied\n",
    "train_dataset = CustomDataset(\n",
    "    data_csv='train_data.csv',\n",
    "    target_csv='train_target.csv',\n",
    "    transform = train_transforms\n",
    ")\n",
    "\n",
    "# create a DataLoader to handle batch processing and random shuffling of the data\n",
    "train_loader = DataLoader(train_dataset, batch_size=128, shuffle=True)\n",
    "\n",
    "print(\"done\")"
   ]
  },
  {
   "cell_type": "code",
   "execution_count": 4,
   "metadata": {},
   "outputs": [
    {
     "name": "stdout",
     "output_type": "stream",
     "text": [
      "done\n"
     ]
    }
   ],
   "source": [
    "class FacialExpressionClassifier(nn.Module):\n",
    "            \n",
    "    # where we define all the parts of the model\n",
    "    def __init__(self):\n",
    "        super().__init__()\n",
    "\n",
    "        # first convolutional block\n",
    "        self.conv1 = nn.Conv2d(1, 16, kernel_size=5, padding=2)\n",
    "        self.bn1 = nn.BatchNorm2d(16)\n",
    "        self.act1 = nn.ReLU()\n",
    "        self.pool1 = nn.MaxPool2d(2)\n",
    "\n",
    "        self.conv2 = nn.Conv2d(16, 32, kernel_size=3, padding=1)\n",
    "        self.bn2 = nn.BatchNorm2d(32)\n",
    "        self.act2 = nn.ReLU()\n",
    "        self.pool2 = nn.MaxPool2d(2)\n",
    "\n",
    "        self.conv3 = nn.Conv2d(32, 64, kernel_size=3, padding=1)\n",
    "        self.bn3 = nn.BatchNorm2d(64)\n",
    "        self.act3 = nn.ReLU()\n",
    "        self.pool3 = nn.MaxPool2d(2)\n",
    "\n",
    "        self.conv4 = nn.Conv2d(64, 128, kernel_size=3, padding=1)\n",
    "        self.bn4 = nn.BatchNorm2d(128)\n",
    "        self.act4 = nn.ReLU()\n",
    "        self.pool4 = nn.MaxPool2d(2)\n",
    "\n",
    "        # fully connected lyaers and ReLU activation functions\n",
    "        self.fc1 = nn.Linear(128*3*3, 64)\n",
    "        self.act_fc1 = nn.ReLU()\n",
    "        self.fc2 = nn.Linear(64, 32)\n",
    "        self.act_fc2 = nn.ReLU()\n",
    "        self.fc3 = nn.Linear(32, 3)\n",
    "\n",
    "    # connect the parts of init and return the output\n",
    "    def forward(self, x):\n",
    "        # pass through the convolutional layers\n",
    "        out = self.pool1(self.act1(self.bn1(self.conv1(x))))\n",
    "        out = self.pool2(self.act2(self.bn2(self.conv2(out))))\n",
    "        out = self.pool3(self.act3(self.bn3(self.conv3(out))))\n",
    "        out = self.pool4(self.act4(self.bn4(self.conv4(out))))\n",
    "\n",
    "        # flatten the output from the last convolutional layer to pass through the fully connected layers\n",
    "        out = out.view(out.size(0), -1)\n",
    "\n",
    "        # pass x through the fully connected layers with activation functions\n",
    "        out = self.act_fc1(self.fc1(out))\n",
    "        out = self.act_fc2(self.fc2(out))\n",
    "        out = self.fc3(out)\n",
    "\n",
    "        # return raw scores for each class\n",
    "        return out\n",
    "\n",
    "print(\"done\")"
   ]
  },
  {
   "cell_type": "code",
   "execution_count": 5,
   "metadata": {},
   "outputs": [
    {
     "name": "stdout",
     "output_type": "stream",
     "text": [
      "done\n"
     ]
    }
   ],
   "source": [
    "# creates an instance of the model\n",
    "model = FacialExpressionClassifier()\n",
    "\n",
    "# apply the cross-entropy loss function (typically used for multi-class classification)\n",
    "criterion = nn.CrossEntropyLoss()\n",
    "\n",
    "# updates the model's parameters during training\n",
    "optimizer = optim.Adam(model.parameters(), lr=0.004)\n",
    "\n",
    "print(\"done\")"
   ]
  },
  {
   "cell_type": "code",
   "execution_count": 6,
   "metadata": {},
   "outputs": [
    {
     "name": "stdout",
     "output_type": "stream",
     "text": [
      "Epoch [1/80], Loss: 1.0006\n",
      "Epoch [2/80], Loss: 0.7703\n",
      "Epoch [3/80], Loss: 0.6678\n",
      "Epoch [4/80], Loss: 0.6207\n",
      "Epoch [5/80], Loss: 0.5846\n",
      "Epoch [6/80], Loss: 0.5672\n",
      "Epoch [7/80], Loss: 0.5384\n",
      "Epoch [8/80], Loss: 0.5205\n",
      "Epoch [9/80], Loss: 0.5043\n",
      "Epoch [10/80], Loss: 0.4869\n",
      "Epoch [11/80], Loss: 0.4726\n",
      "Epoch [12/80], Loss: 0.4611\n",
      "Epoch [13/80], Loss: 0.4520\n",
      "Epoch [14/80], Loss: 0.4297\n",
      "Epoch [15/80], Loss: 0.4190\n",
      "Epoch [16/80], Loss: 0.4168\n",
      "Epoch [17/80], Loss: 0.4044\n",
      "Epoch [18/80], Loss: 0.3872\n",
      "Epoch [19/80], Loss: 0.3793\n",
      "Epoch [20/80], Loss: 0.3669\n",
      "Epoch [21/80], Loss: 0.3578\n",
      "Epoch [22/80], Loss: 0.3439\n",
      "Epoch [23/80], Loss: 0.3386\n",
      "Epoch [24/80], Loss: 0.3320\n",
      "Epoch [25/80], Loss: 0.3326\n",
      "Epoch [26/80], Loss: 0.3093\n",
      "Epoch [27/80], Loss: 0.3038\n",
      "Epoch [28/80], Loss: 0.2985\n",
      "Epoch [29/80], Loss: 0.2893\n",
      "Epoch [30/80], Loss: 0.2913\n",
      "Epoch [31/80], Loss: 0.2729\n",
      "Epoch [32/80], Loss: 0.2768\n",
      "Epoch [33/80], Loss: 0.2653\n",
      "Epoch [34/80], Loss: 0.2618\n",
      "Epoch [35/80], Loss: 0.2515\n",
      "Epoch [36/80], Loss: 0.2410\n",
      "Epoch [37/80], Loss: 0.2441\n",
      "Epoch [38/80], Loss: 0.2349\n",
      "Epoch [39/80], Loss: 0.2367\n",
      "Epoch [40/80], Loss: 0.2299\n",
      "Epoch [41/80], Loss: 0.2265\n",
      "Epoch [42/80], Loss: 0.2076\n",
      "Epoch [43/80], Loss: 0.2110\n",
      "Epoch [44/80], Loss: 0.2153\n",
      "Epoch [45/80], Loss: 0.2120\n",
      "Epoch [46/80], Loss: 0.2022\n",
      "Epoch [47/80], Loss: 0.1909\n",
      "Epoch [48/80], Loss: 0.1889\n",
      "Epoch [49/80], Loss: 0.1895\n",
      "Epoch [50/80], Loss: 0.1883\n",
      "Epoch [51/80], Loss: 0.1952\n",
      "Epoch [52/80], Loss: 0.1838\n",
      "Epoch [53/80], Loss: 0.1866\n",
      "Epoch [54/80], Loss: 0.1738\n",
      "Epoch [55/80], Loss: 0.1703\n",
      "Epoch [56/80], Loss: 0.1681\n",
      "Epoch [57/80], Loss: 0.1626\n",
      "Epoch [58/80], Loss: 0.1655\n",
      "Epoch [59/80], Loss: 0.1709\n",
      "Epoch [60/80], Loss: 0.1606\n",
      "Epoch [61/80], Loss: 0.1556\n",
      "Epoch [62/80], Loss: 0.1554\n",
      "Epoch [63/80], Loss: 0.1447\n",
      "Epoch [64/80], Loss: 0.1550\n",
      "Epoch [65/80], Loss: 0.1481\n",
      "Epoch [66/80], Loss: 0.1437\n",
      "Epoch [67/80], Loss: 0.1420\n",
      "Epoch [68/80], Loss: 0.1496\n",
      "Epoch [69/80], Loss: 0.1421\n",
      "Epoch [70/80], Loss: 0.1337\n",
      "Epoch [71/80], Loss: 0.1435\n",
      "Epoch [72/80], Loss: 0.1372\n",
      "Epoch [73/80], Loss: 0.1370\n",
      "Epoch [74/80], Loss: 0.1275\n",
      "Epoch [75/80], Loss: 0.1300\n",
      "Epoch [76/80], Loss: 0.1297\n",
      "Epoch [77/80], Loss: 0.1194\n",
      "Epoch [78/80], Loss: 0.1236\n",
      "Epoch [79/80], Loss: 0.1247\n",
      "Epoch [80/80], Loss: 0.1238\n"
     ]
    }
   ],
   "source": [
    "# specifies how many times the model iterates over the entire training dataset\n",
    "num_epochs = 80\n",
    "\n",
    "# list to store average loss for each epoch\n",
    "losses = []\n",
    "\n",
    "# iterates over num_epochs\n",
    "for epoch in range(num_epochs):\n",
    "    model.train()\n",
    "\n",
    "    # track cumulative loss for each epoch\n",
    "    running_loss = 0.0\n",
    "\n",
    "    # iterates over each mini-batch of images and labels from the train_loader\n",
    "    for images, labels in train_loader:\n",
    "        # passes each batch of images trhough the model to generate predictions\n",
    "        outputs = model(images)\n",
    "\n",
    "        # computes the loss\n",
    "        loss = criterion(outputs, labels)\n",
    "\n",
    "        # backward pass\n",
    "        optimizer.zero_grad()  # resets gradients before each new batch\n",
    "        loss.backward()  # computes the gradients of the loss using backpropagation\n",
    "        optimizer.step()  # update model parameters\n",
    "        running_loss += loss.item()\n",
    "\n",
    "    average_loss = running_loss / len(train_loader)\n",
    "\n",
    "    # store the average loss for plotting\n",
    "    losses.append(average_loss)\n",
    "\n",
    "    # print the loss for each epoch\n",
    "    print(f'Epoch [{epoch+1}/{num_epochs}], Loss: {average_loss:.4f}')\n",
    "    "
   ]
  },
  {
   "cell_type": "code",
   "execution_count": 7,
   "metadata": {},
   "outputs": [
    {
     "data": {
      "image/png": "[encoded data removed]",
      "text/plain": [
       "<Figure size 640x480 with 1 Axes>"
      ]
     },
     "metadata": {},
     "output_type": "display_data"
    }
   ],
   "source": [
    "# plot the learning curve for each epoch\n",
    "plt.plot(range(1, num_epochs + 1), losses, marker='o')\n",
    "plt.xlabel('Epoch')\n",
    "plt.ylabel('Loss')\n",
    "plt.title('Learning Curve')\n",
    "plt.show()"
   ]
  },
  {
   "cell_type": "code",
   "execution_count": 8,
   "metadata": {},
   "outputs": [],
   "source": [
    "# transformations to apply on the testing data\n",
    "test_transforms = transforms.Compose([\n",
    "    transforms.Normalize((0.5,), (0.5,))\n",
    "])\n",
    "\n",
    "# create a testing dataset instance with transformations applied\n",
    "test_dataset = CustomDataset(\n",
    "    data_csv='test_data.csv',\n",
    "    transform=test_transforms\n",
    ")\n",
    "\n",
    "# create a DataLoader to handle batch processing and random shuffling of the data\n",
    "test_loader = DataLoader(test_dataset, batch_size=64, shuffle=False)"
   ]
  },
  {
   "cell_type": "code",
   "execution_count": 9,
   "metadata": {},
   "outputs": [],
   "source": [
    "# switches model to evaluation mode\n",
    "model.eval()\n",
    "\n",
    "predictions = []\n",
    "\n",
    "# gradients are not needed because we are not updating model parameters\n",
    "with torch.no_grad():\n",
    "    # iterates over each batch of images from test_loader\n",
    "    for images in test_loader:\n",
    "        outputs = model(images)  # generate raw predictions for each class\n",
    "        _, predicted = torch.max(outputs, 1)  # get class with highest score\n",
    "        predictions.extend(predicted.cpu().numpy())  # append each batch's predictions to the predictions list"
   ]
  },
  {
   "cell_type": "code",
   "execution_count": 10,
   "metadata": {},
   "outputs": [
    {
     "name": "stdout",
     "output_type": "stream",
     "text": [
      "done\n"
     ]
    }
   ],
   "source": [
    "# converts results into a csv file for submission\n",
    "submission = pd.DataFrame({\n",
    "    'Id': range(len(predictions)),  \n",
    "    'Category': predictions\n",
    "})\n",
    "\n",
    "submission.to_csv('submission.csv', index=False)\n",
    "print(\"done\")\n",
    "\n"
   ]
  },
  {
   "cell_type": "code",
   "execution_count": null,
   "metadata": {},
   "outputs": [],
   "source": []
  }
 ],
 "metadata": {
  "kaggle": {
   "accelerator": "none",
   "dataSources": [
    {
     "databundleVersionId": 9871634,
     "sourceId": 87038,
     "sourceType": "competition"
    }
   ],
   "dockerImageVersionId": 30786,
   "isGpuEnabled": false,
   "isInternetEnabled": false,
   "language": "python",
   "sourceType": "notebook"
  },
  "kernelspec": {
   "display_name": "Python 3 (ipykernel)",
   "language": "python",
   "name": "python3"
  },
  "language_info": {
   "codemirror_mode": {
    "name": "ipython",
    "version": 3
   },
   "file_extension": ".py",
   "mimetype": "text/x-python",
   "name": "python",
   "nbconvert_exporter": "python",
   "pygments_lexer": "ipython3",
   "version": "3.12.4"
  }
 },
 "nbformat": 4,
 "nbformat_minor": 4
}
